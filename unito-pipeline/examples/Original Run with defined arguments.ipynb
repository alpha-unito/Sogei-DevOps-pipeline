{
 "cells": [
  {
   "cell_type": "code",
   "execution_count": 1,
   "metadata": {},
   "outputs": [],
   "source": [
    "import os\n",
    "import sys\n",
    "import json\n",
    "import albumentations as A\n",
    "\n",
    "module_path = os.path.abspath(os.path.join('../'))\n",
    "if module_path not in sys.path:\n",
    "    sys.path.append(module_path)\n",
    "    \n",
    "from building_footprint_segmentation.segmentation import init_segmentation, read_trainer_config\n",
    "from building_footprint_segmentation.helpers.callbacks import CallbackList, load_callback\n",
    "from building_footprint_segmentation.trainer import Trainer"
   ]
  },
  {
   "cell_type": "markdown",
   "metadata": {},
   "source": [
    "### Initalize type of segmentation to run for building footprint"
   ]
  },
  {
   "cell_type": "code",
   "execution_count": 2,
   "metadata": {},
   "outputs": [],
   "source": [
    "segmentation = init_segmentation(\"binary\")"
   ]
  },
  {
   "cell_type": "markdown",
   "metadata": {},
   "source": [
    "### Defining augmenters to use"
   ]
  },
  {
   "cell_type": "code",
   "execution_count": 3,
   "metadata": {},
   "outputs": [],
   "source": [
    "augmenters = A.Compose([\n",
    "    A.HorizontalFlip(p=0.5),\n",
    "    A.RandomBrightnessContrast(p=0.2)\n",
    "]).to_dict()"
   ]
  },
  {
   "cell_type": "markdown",
   "metadata": {},
   "source": [
    "### Load essential segmentation objects for training"
   ]
  },
  {
   "cell_type": "code",
   "execution_count": 9,
   "metadata": {},
   "outputs": [],
   "source": [
    "model = segmentation.load_model(name=\"ReFineNet\")\n",
    "criterion = segmentation.load_criterion(name=\"BinaryCrossEntropy\")\n",
    "loader = segmentation.load_loader(\n",
    "    root_folder=r\"/Users/dorianaunito/PostDoc/PROJECTS/SOGEI-DevOps/venv/building-footprint-segmentation/data\",\n",
    "    image_normalization=\"divide_by_255\",\n",
    "    label_normalization=\"binary_label\",\n",
    "    augmenters=augmenters,\n",
    "    batch_size=2,\n",
    ")\n",
    "metrics = segmentation.load_metrics(\n",
    "    data_metrics=[\"accuracy\", \"precision\", \"f1\", \"recall\", \"iou\"]\n",
    ")\n",
    "\n",
    "optimizer = segmentation.load_optimizer(model, name=\"Adam\")\n",
    "\n",
    "callbacks = CallbackList()\n",
    "# Ouptut from all the callbacks caller will be stored at the path specified in log_dir\n",
    "for caller in  [\"TrainChkCallback\", \"TimeCallback\", \"TensorBoardCallback\", \"TrainStateCallback\"]:\n",
    "    callbacks.append(load_callback(r\"/Users/dorianaunito/PostDoc/PROJECTS/SOGEI-DevOps/venv/building-footprint-segmentation/out_data\", caller))"
   ]
  },
  {
   "cell_type": "markdown",
   "metadata": {},
   "source": [
    "### Initalize the Trainer object\n"
   ]
  },
  {
   "cell_type": "code",
   "execution_count": 5,
   "metadata": {},
   "outputs": [],
   "source": [
    "trainer = Trainer(\n",
    "    model=model,\n",
    "    criterion=criterion,\n",
    "    loader=loader,\n",
    "    metrics=metrics,\n",
    "    callbacks=callbacks,\n",
    "    optimizer=optimizer,\n",
    "    scheduler=None,\n",
    ")"
   ]
  },
  {
   "cell_type": "markdown",
   "metadata": {},
   "source": [
    "### Start training\n"
   ]
  },
  {
   "cell_type": "code",
   "execution_count": 6,
   "metadata": {},
   "outputs": [
    {
     "name": "stderr",
     "output_type": "stream",
     "text": [
      "Epoch 0, lr 0.001:   0%|          | 0/8 [00:00<?, ?it/s]"
     ]
    },
    {
     "name": "stdout",
     "output_type": "stream",
     "text": [
      "Loading image: /Users/dorianaunito/PostDoc/PROJECTS/SOGEI-DevOps/venv/building-footprint-segmentation/data/train/images/austin_0_3072.tif\n",
      "Loading image: /Users/dorianaunito/PostDoc/PROJECTS/SOGEI-DevOps/venv/building-footprint-segmentation/data/train/labels/austin_0_3072.tif\n",
      "Loading image: /Users/dorianaunito/PostDoc/PROJECTS/SOGEI-DevOps/venv/building-footprint-segmentation/data/train/images/austin_0_5120.tif\n",
      "Loading image: /Users/dorianaunito/PostDoc/PROJECTS/SOGEI-DevOps/venv/building-footprint-segmentation/data/train/labels/austin_0_5120.tif\n"
     ]
    },
    {
     "name": "stderr",
     "output_type": "stream",
     "text": [
      "Epoch 0, lr 0.001:  25%|██▌       | 2/8 [00:24<01:13, 12.23s/it, loss=0.65895]"
     ]
    },
    {
     "name": "stdout",
     "output_type": "stream",
     "text": [
      "Loading image: /Users/dorianaunito/PostDoc/PROJECTS/SOGEI-DevOps/venv/building-footprint-segmentation/data/train/images/austin_0_6144.tif\n",
      "Loading image: /Users/dorianaunito/PostDoc/PROJECTS/SOGEI-DevOps/venv/building-footprint-segmentation/data/train/labels/austin_0_6144.tif\n",
      "Loading image: /Users/dorianaunito/PostDoc/PROJECTS/SOGEI-DevOps/venv/building-footprint-segmentation/data/train/images/austin_0_15360.tif\n",
      "Loading image: /Users/dorianaunito/PostDoc/PROJECTS/SOGEI-DevOps/venv/building-footprint-segmentation/data/train/labels/austin_0_15360.tif\n"
     ]
    },
    {
     "name": "stderr",
     "output_type": "stream",
     "text": [
      "Epoch 0, lr 0.001:  50%|█████     | 4/8 [00:49<00:49, 12.33s/it, loss=174463.79823]"
     ]
    },
    {
     "name": "stdout",
     "output_type": "stream",
     "text": [
      "Loading image: /Users/dorianaunito/PostDoc/PROJECTS/SOGEI-DevOps/venv/building-footprint-segmentation/data/train/images/austin_0_8192.tif\n",
      "Loading image: /Users/dorianaunito/PostDoc/PROJECTS/SOGEI-DevOps/venv/building-footprint-segmentation/data/train/labels/austin_0_8192.tif\n",
      "Loading image: /Users/dorianaunito/PostDoc/PROJECTS/SOGEI-DevOps/venv/building-footprint-segmentation/data/train/images/austin_0_13312.tif\n",
      "Loading image: /Users/dorianaunito/PostDoc/PROJECTS/SOGEI-DevOps/venv/building-footprint-segmentation/data/train/labels/austin_0_13312.tif\n"
     ]
    },
    {
     "name": "stderr",
     "output_type": "stream",
     "text": [
      "Epoch 0, lr 0.001:  75%|███████▌  | 6/8 [01:13<00:24, 12.18s/it, loss=116309.51871]"
     ]
    },
    {
     "name": "stdout",
     "output_type": "stream",
     "text": [
      "Loading image: /Users/dorianaunito/PostDoc/PROJECTS/SOGEI-DevOps/venv/building-footprint-segmentation/data/train/images/austin_0_0.tif\n",
      "Loading image: /Users/dorianaunito/PostDoc/PROJECTS/SOGEI-DevOps/venv/building-footprint-segmentation/data/train/labels/austin_0_0.tif\n",
      "Loading image: /Users/dorianaunito/PostDoc/PROJECTS/SOGEI-DevOps/venv/building-footprint-segmentation/data/train/images/austin_0_2048.tif\n",
      "Loading image: /Users/dorianaunito/PostDoc/PROJECTS/SOGEI-DevOps/venv/building-footprint-segmentation/data/train/labels/austin_0_2048.tif\n"
     ]
    },
    {
     "name": "stderr",
     "output_type": "stream",
     "text": [
      "Epoch 0, lr 0.001: 100%|██████████| 8/8 [01:36<00:00, 12.11s/it, loss=87232.31860] "
     ]
    },
    {
     "name": "stdout",
     "output_type": "stream",
     "text": [
      "Loading image: /Users/dorianaunito/PostDoc/PROJECTS/SOGEI-DevOps/venv/building-footprint-segmentation/data/val/images/austin_0_12288.tif\n",
      "Loading image: /Users/dorianaunito/PostDoc/PROJECTS/SOGEI-DevOps/venv/building-footprint-segmentation/data/val/labels/austin_0_12288.tif\n",
      "Loading image: /Users/dorianaunito/PostDoc/PROJECTS/SOGEI-DevOps/venv/building-footprint-segmentation/data/val/images/austin_0_9216.tif\n",
      "Loading image: /Users/dorianaunito/PostDoc/PROJECTS/SOGEI-DevOps/venv/building-footprint-segmentation/data/val/labels/austin_0_9216.tif\n",
      "\u001b[1;37m>>\u001b[KPy-OneLiner : \u001b[36mValidation\u001b[0m : \u001b[30m1/1 ETA -- 0:Days 0:Hours 0:Minutes 0:Seconds\u001b[0m"
     ]
    },
    {
     "name": "stderr",
     "output_type": "stream",
     "text": [
      "\n"
     ]
    },
    {
     "name": "stdout",
     "output_type": "stream",
     "text": [
      "\u001b[1;37m>>\u001b[KPy-OneLiner : \u001b[36mLoss\u001b[0m : \u001b[30mtrain: 87232.31859624386, validation: 1.7193603515625\u001b[0m\n",
      "\u001b[1;37m>>\u001b[KPy-OneLiner : \u001b[36mTrain Metric\u001b[0m : \u001b[30maccuracy : 0.92558, precision : 0.00000, f1 : 0.00000, recall : 0.00000, iou : 0.00000\u001b[0m\n",
      "\u001b[1;37m>>\u001b[KPy-OneLiner : \u001b[36mValid Metric\u001b[0m : \u001b[30maccuracy : 0.90794, precision : 0.00000, f1 : 0.00000, recall : 0.00000, iou : 0.00000\u001b[0m\n",
      "\u001b[1;37m>>\u001b[KPy-OneLiner : Training Complete\n",
      "\u001b[1;37m>>\u001b[KPy-OneLiner : \u001b[36mRun Time\u001b[0m : \u001b[30m0:Days 0:Hours 1:Minutes 47:Seconds\u001b[0m"
     ]
    }
   ],
   "source": [
    "\n",
    "trainer.train(start_epoch=0, end_epoch=1)"
   ]
  },
  {
   "cell_type": "markdown",
   "metadata": {},
   "source": [
    "### Resuming Training\n"
   ]
  },
  {
   "cell_type": "code",
   "execution_count": 14,
   "metadata": {},
   "outputs": [
    {
     "ename": "UnpicklingError",
     "evalue": "Weights only load failed. This file can still be loaded, to do so you have two options, \u001b[1mdo those steps only if you trust the source of the checkpoint\u001b[0m. \n\t(1) In PyTorch 2.6, we changed the default value of the `weights_only` argument in `torch.load` from `False` to `True`. Re-running `torch.load` with `weights_only` set to `False` will likely succeed, but it can result in arbitrary code execution. Do it only if you got the file from a trusted source.\n\t(2) Alternatively, to load with `weights_only=True` please check the recommended steps in the following error message.\n\tWeightsUnpickler error: Unsupported global: GLOBAL numpy._core.multiarray.scalar was not an allowed global by default. Please use `torch.serialization.add_safe_globals([numpy._core.multiarray.scalar])` or the `torch.serialization.safe_globals([numpy._core.multiarray.scalar])` context manager to allowlist this global if you trust this class/function.\n\nCheck the documentation of torch.load to learn more about types accepted by default with weights_only https://pytorch.org/docs/stable/generated/torch.load.html.",
     "output_type": "error",
     "traceback": [
      "\u001b[0;31m---------------------------------------------------------------------------\u001b[0m",
      "\u001b[0;31mUnpicklingError\u001b[0m                           Traceback (most recent call last)",
      "Cell \u001b[0;32mIn[14], line 4\u001b[0m\n\u001b[1;32m      1\u001b[0m path_to_saved_state \u001b[38;5;241m=\u001b[39m \u001b[38;5;124mr\u001b[39m\u001b[38;5;124m\"\u001b[39m\u001b[38;5;124m/Users/dorianaunito/PostDoc/PROJECTS/SOGEI-DevOps/venv/building-footprint-segmentation/out_data/20250620-095420/state/default.pt\u001b[39m\u001b[38;5;124m\"\u001b[39m\n\u001b[1;32m      3\u001b[0m \u001b[38;5;66;03m# if new_end_epoch is None, the trainer will resume and run till end_epoch, the value of which is saved in state file \u001b[39;00m\n\u001b[0;32m----> 4\u001b[0m \u001b[43mtrainer\u001b[49m\u001b[38;5;241;43m.\u001b[39;49m\u001b[43mresume\u001b[49m\u001b[43m(\u001b[49m\u001b[43mstate\u001b[49m\u001b[38;5;241;43m=\u001b[39;49m\u001b[43mpath_to_saved_state\u001b[49m\u001b[43m,\u001b[49m\u001b[43m \u001b[49m\u001b[43mnew_end_epoch\u001b[49m\u001b[38;5;241;43m=\u001b[39;49m\u001b[38;5;241;43m2\u001b[39;49m\u001b[43m)\u001b[49m\n",
      "File \u001b[0;32m~/PostDoc/PROJECTS/SOGEI-DevOps/venv/lib/python3.10/site-packages/building_footprint_segmentation/trainer.py:60\u001b[0m, in \u001b[0;36mTrainer.resume\u001b[0;34m(self, state, new_end_epoch)\u001b[0m\n\u001b[1;32m     58\u001b[0m \u001b[38;5;28;01mdef\u001b[39;00m\u001b[38;5;250m \u001b[39m\u001b[38;5;21mresume\u001b[39m(\u001b[38;5;28mself\u001b[39m, state: \u001b[38;5;28mstr\u001b[39m, new_end_epoch\u001b[38;5;241m=\u001b[39m\u001b[38;5;28;01mNone\u001b[39;00m):\n\u001b[1;32m     59\u001b[0m     step, start_epoch, end_epoch, bst_vld_loss \u001b[38;5;241m=\u001b[39m \u001b[38;5;28mself\u001b[39m\u001b[38;5;241m.\u001b[39mprevious_state(\n\u001b[0;32m---> 60\u001b[0m         \u001b[43mextract_state\u001b[49m\u001b[43m(\u001b[49m\u001b[43mstate\u001b[49m\u001b[43m)\u001b[49m\n\u001b[1;32m     61\u001b[0m     )\n\u001b[1;32m     62\u001b[0m     \u001b[38;5;28;01mif\u001b[39;00m new_end_epoch \u001b[38;5;129;01mis\u001b[39;00m \u001b[38;5;129;01mnot\u001b[39;00m \u001b[38;5;28;01mNone\u001b[39;00m:\n\u001b[1;32m     63\u001b[0m         logger\u001b[38;5;241m.\u001b[39mdebug(\u001b[38;5;124mf\u001b[39m\u001b[38;5;124m\"\u001b[39m\u001b[38;5;124mOverriding end epoch from \u001b[39m\u001b[38;5;132;01m{\u001b[39;00mend_epoch\u001b[38;5;132;01m}\u001b[39;00m\u001b[38;5;124m to \u001b[39m\u001b[38;5;132;01m{\u001b[39;00mnew_end_epoch\u001b[38;5;132;01m}\u001b[39;00m\u001b[38;5;124m\"\u001b[39m)\n",
      "File \u001b[0;32m~/PostDoc/PROJECTS/SOGEI-DevOps/venv/lib/python3.10/site-packages/building_footprint_segmentation/utils/py_network.py:119\u001b[0m, in \u001b[0;36mextract_state\u001b[0;34m(weight_path)\u001b[0m\n\u001b[1;32m    118\u001b[0m \u001b[38;5;28;01mdef\u001b[39;00m\u001b[38;5;250m \u001b[39m\u001b[38;5;21mextract_state\u001b[39m(weight_path: \u001b[38;5;28mstr\u001b[39m) \u001b[38;5;241m-\u001b[39m\u001b[38;5;241m>\u001b[39m \u001b[38;5;28mdict\u001b[39m:\n\u001b[0;32m--> 119\u001b[0m     state \u001b[38;5;241m=\u001b[39m \u001b[43mtorch\u001b[49m\u001b[38;5;241;43m.\u001b[39;49m\u001b[43mload\u001b[49m\u001b[43m(\u001b[49m\u001b[38;5;28;43mstr\u001b[39;49m\u001b[43m(\u001b[49m\u001b[43mweight_path\u001b[49m\u001b[43m)\u001b[49m\u001b[43m,\u001b[49m\u001b[43m \u001b[49m\u001b[43mmap_location\u001b[49m\u001b[38;5;241;43m=\u001b[39;49m\u001b[38;5;124;43m\"\u001b[39;49m\u001b[38;5;124;43mcpu\u001b[39;49m\u001b[38;5;124;43m\"\u001b[39;49m\u001b[43m)\u001b[49m\n\u001b[1;32m    120\u001b[0m     \u001b[38;5;28;01mreturn\u001b[39;00m state\n",
      "File \u001b[0;32m~/PostDoc/PROJECTS/SOGEI-DevOps/venv/lib/python3.10/site-packages/torch/serialization.py:1524\u001b[0m, in \u001b[0;36mload\u001b[0;34m(f, map_location, pickle_module, weights_only, mmap, **pickle_load_args)\u001b[0m\n\u001b[1;32m   1516\u001b[0m                 \u001b[38;5;28;01mreturn\u001b[39;00m _load(\n\u001b[1;32m   1517\u001b[0m                     opened_zipfile,\n\u001b[1;32m   1518\u001b[0m                     map_location,\n\u001b[0;32m   (...)\u001b[0m\n\u001b[1;32m   1521\u001b[0m                     \u001b[38;5;241m*\u001b[39m\u001b[38;5;241m*\u001b[39mpickle_load_args,\n\u001b[1;32m   1522\u001b[0m                 )\n\u001b[1;32m   1523\u001b[0m             \u001b[38;5;28;01mexcept\u001b[39;00m pickle\u001b[38;5;241m.\u001b[39mUnpicklingError \u001b[38;5;28;01mas\u001b[39;00m e:\n\u001b[0;32m-> 1524\u001b[0m                 \u001b[38;5;28;01mraise\u001b[39;00m pickle\u001b[38;5;241m.\u001b[39mUnpicklingError(_get_wo_message(\u001b[38;5;28mstr\u001b[39m(e))) \u001b[38;5;28;01mfrom\u001b[39;00m\u001b[38;5;250m \u001b[39m\u001b[38;5;28;01mNone\u001b[39;00m\n\u001b[1;32m   1525\u001b[0m         \u001b[38;5;28;01mreturn\u001b[39;00m _load(\n\u001b[1;32m   1526\u001b[0m             opened_zipfile,\n\u001b[1;32m   1527\u001b[0m             map_location,\n\u001b[0;32m   (...)\u001b[0m\n\u001b[1;32m   1530\u001b[0m             \u001b[38;5;241m*\u001b[39m\u001b[38;5;241m*\u001b[39mpickle_load_args,\n\u001b[1;32m   1531\u001b[0m         )\n\u001b[1;32m   1532\u001b[0m \u001b[38;5;28;01mif\u001b[39;00m mmap:\n",
      "\u001b[0;31mUnpicklingError\u001b[0m: Weights only load failed. This file can still be loaded, to do so you have two options, \u001b[1mdo those steps only if you trust the source of the checkpoint\u001b[0m. \n\t(1) In PyTorch 2.6, we changed the default value of the `weights_only` argument in `torch.load` from `False` to `True`. Re-running `torch.load` with `weights_only` set to `False` will likely succeed, but it can result in arbitrary code execution. Do it only if you got the file from a trusted source.\n\t(2) Alternatively, to load with `weights_only=True` please check the recommended steps in the following error message.\n\tWeightsUnpickler error: Unsupported global: GLOBAL numpy._core.multiarray.scalar was not an allowed global by default. Please use `torch.serialization.add_safe_globals([numpy._core.multiarray.scalar])` or the `torch.serialization.safe_globals([numpy._core.multiarray.scalar])` context manager to allowlist this global if you trust this class/function.\n\nCheck the documentation of torch.load to learn more about types accepted by default with weights_only https://pytorch.org/docs/stable/generated/torch.load.html."
     ]
    }
   ],
   "source": [
    "path_to_saved_state = r\"/Users/dorianaunito/PostDoc/PROJECTS/SOGEI-DevOps/venv/building-footprint-segmentation/out_data/20250620-095420/state/default.pt\"\n",
    "\n",
    "# if new_end_epoch is None, the trainer will resume and run till end_epoch, the value of which is saved in state file \n",
    "trainer.resume(state=path_to_saved_state, new_end_epoch=2)"
   ]
  }
 ],
 "metadata": {
  "kernelspec": {
   "display_name": "venv",
   "language": "python",
   "name": "python3"
  },
  "language_info": {
   "codemirror_mode": {
    "name": "ipython",
    "version": 3
   },
   "file_extension": ".py",
   "mimetype": "text/x-python",
   "name": "python",
   "nbconvert_exporter": "python",
   "pygments_lexer": "ipython3",
   "version": "3.10.18"
  }
 },
 "nbformat": 4,
 "nbformat_minor": 4
}
