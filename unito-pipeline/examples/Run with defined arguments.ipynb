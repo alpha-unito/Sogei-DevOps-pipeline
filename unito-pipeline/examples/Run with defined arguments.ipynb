{
 "cells": [
  {
   "cell_type": "code",
   "execution_count": 2,
   "metadata": {},
   "outputs": [],
   "source": [
    "import os\n",
    "import sys\n",
    "import json\n",
    "import albumentations as A\n",
    "\n",
    "module_path = os.path.abspath(os.path.join('../'))\n",
    "if module_path not in sys.path:\n",
    "    sys.path.append(module_path)\n",
    "    \n",
    "from building_footprint_segmentation.segmentation import init_segmentation, read_trainer_config\n",
    "from building_footprint_segmentation.helpers.callbacks import CallbackList, load_callback\n",
    "from building_footprint_segmentation.trainer import Trainer"
   ]
  },
  {
   "cell_type": "markdown",
   "metadata": {},
   "source": [
    "### Initalize type of segmentation to run for building footprint"
   ]
  },
  {
   "cell_type": "code",
   "execution_count": 3,
   "metadata": {},
   "outputs": [],
   "source": [
    "segmentation = init_segmentation(\"binary\")"
   ]
  },
  {
   "cell_type": "markdown",
   "metadata": {},
   "source": [
    "### Defining augmenters to use"
   ]
  },
  {
   "cell_type": "code",
   "execution_count": 12,
   "metadata": {},
   "outputs": [],
   "source": [
    "augmenters = A.Compose([\n",
    "    A.HorizontalFlip(p=0.5),\n",
    "    A.RandomBrightnessContrast(p=0.2)\n",
    "]).to_dict()"
   ]
  },
  {
   "cell_type": "code",
   "execution_count": 13,
   "metadata": {},
   "outputs": [],
   "source": [
    "transfer_weights=\"/Users/dorianaunito/PostDoc/PROJECTS/SOGEI-DevOps/venv/model/refine.pth\""
   ]
  },
  {
   "cell_type": "markdown",
   "metadata": {},
   "source": [
    "### Load essential segmentation objects for training"
   ]
  },
  {
   "cell_type": "code",
   "execution_count": 11,
   "metadata": {},
   "outputs": [
    {
     "ename": "TypeError",
     "evalue": "list indices must be integers or slices, not str",
     "output_type": "error",
     "traceback": [
      "\u001b[0;31m---------------------------------------------------------------------------\u001b[0m",
      "\u001b[0;31mTypeError\u001b[0m                                 Traceback (most recent call last)",
      "Cell \u001b[0;32mIn[11], line 4\u001b[0m\n\u001b[1;32m      1\u001b[0m model \u001b[38;5;241m=\u001b[39m segmentation\u001b[38;5;241m.\u001b[39mload_model(name\u001b[38;5;241m=\u001b[39m\u001b[38;5;124m\"\u001b[39m\u001b[38;5;124mReFineNet\u001b[39m\u001b[38;5;124m\"\u001b[39m, transfer_weights\u001b[38;5;241m=\u001b[39mtransfer_weights, pre_trained_image_net\u001b[38;5;241m=\u001b[39m\u001b[38;5;28;01mFalse\u001b[39;00m,\n\u001b[1;32m      2\u001b[0m         top_layers_trainable\u001b[38;5;241m=\u001b[39m\u001b[38;5;28;01mFalse\u001b[39;00m)\n\u001b[1;32m      3\u001b[0m criterion \u001b[38;5;241m=\u001b[39m segmentation\u001b[38;5;241m.\u001b[39mload_criterion(name\u001b[38;5;241m=\u001b[39m\u001b[38;5;124m\"\u001b[39m\u001b[38;5;124mBinaryCrossEntropy\u001b[39m\u001b[38;5;124m\"\u001b[39m)\n\u001b[0;32m----> 4\u001b[0m loader \u001b[38;5;241m=\u001b[39m \u001b[43msegmentation\u001b[49m\u001b[38;5;241;43m.\u001b[39;49m\u001b[43mload_loader\u001b[49m\u001b[43m(\u001b[49m\n\u001b[1;32m      5\u001b[0m \u001b[43m    \u001b[49m\u001b[43mroot_folder\u001b[49m\u001b[38;5;241;43m=\u001b[39;49m\u001b[38;5;124;43mr\u001b[39;49m\u001b[38;5;124;43m\"\u001b[39;49m\u001b[38;5;124;43m/Users/dorianaunito/PostDoc/PROJECTS/SOGEI-DevOps/venv/building-footprint-segmentation/data\u001b[39;49m\u001b[38;5;124;43m\"\u001b[39;49m\u001b[43m,\u001b[49m\n\u001b[1;32m      6\u001b[0m \u001b[43m    \u001b[49m\u001b[43mimage_normalization\u001b[49m\u001b[38;5;241;43m=\u001b[39;49m\u001b[38;5;124;43m\"\u001b[39;49m\u001b[38;5;124;43mdivide_by_255\u001b[39;49m\u001b[38;5;124;43m\"\u001b[39;49m\u001b[43m,\u001b[49m\n\u001b[1;32m      7\u001b[0m \u001b[43m    \u001b[49m\u001b[43mlabel_normalization\u001b[49m\u001b[38;5;241;43m=\u001b[39;49m\u001b[38;5;124;43m\"\u001b[39;49m\u001b[38;5;124;43mbinary_label\u001b[39;49m\u001b[38;5;124;43m\"\u001b[39;49m\u001b[43m,\u001b[49m\n\u001b[1;32m      8\u001b[0m \u001b[43m    \u001b[49m\u001b[43maugmenters\u001b[49m\u001b[38;5;241;43m=\u001b[39;49m\u001b[43maugmenters\u001b[49m\u001b[43m,\u001b[49m\n\u001b[1;32m      9\u001b[0m \u001b[43m    \u001b[49m\u001b[43mbatch_size\u001b[49m\u001b[38;5;241;43m=\u001b[39;49m\u001b[38;5;241;43m2\u001b[39;49m\u001b[43m,\u001b[49m\n\u001b[1;32m     10\u001b[0m \u001b[43m)\u001b[49m\n\u001b[1;32m     11\u001b[0m metrics \u001b[38;5;241m=\u001b[39m segmentation\u001b[38;5;241m.\u001b[39mload_metrics(\n\u001b[1;32m     12\u001b[0m     data_metrics\u001b[38;5;241m=\u001b[39m[\u001b[38;5;124m\"\u001b[39m\u001b[38;5;124maccuracy\u001b[39m\u001b[38;5;124m\"\u001b[39m, \u001b[38;5;124m\"\u001b[39m\u001b[38;5;124mprecision\u001b[39m\u001b[38;5;124m\"\u001b[39m, \u001b[38;5;124m\"\u001b[39m\u001b[38;5;124mf1\u001b[39m\u001b[38;5;124m\"\u001b[39m, \u001b[38;5;124m\"\u001b[39m\u001b[38;5;124mrecall\u001b[39m\u001b[38;5;124m\"\u001b[39m, \u001b[38;5;124m\"\u001b[39m\u001b[38;5;124miou\u001b[39m\u001b[38;5;124m\"\u001b[39m]\n\u001b[1;32m     13\u001b[0m )\n\u001b[1;32m     15\u001b[0m optimizer \u001b[38;5;241m=\u001b[39m segmentation\u001b[38;5;241m.\u001b[39mload_optimizer(model, name\u001b[38;5;241m=\u001b[39m\u001b[38;5;124m\"\u001b[39m\u001b[38;5;124mAdam\u001b[39m\u001b[38;5;124m\"\u001b[39m)\n",
      "File \u001b[0;32m~/PostDoc/PROJECTS/SOGEI-DevOps/venv/lib/python3.10/site-packages/building_footprint_segmentation/segmentation.py:30\u001b[0m, in \u001b[0;36mSegmentation.load_loader\u001b[0;34m(self, root_folder, image_normalization, label_normalization, augmenters, batch_size)\u001b[0m\n\u001b[1;32m     22\u001b[0m \u001b[38;5;28;01mdef\u001b[39;00m\u001b[38;5;250m \u001b[39m\u001b[38;5;21mload_loader\u001b[39m(\n\u001b[1;32m     23\u001b[0m     \u001b[38;5;28mself\u001b[39m,\n\u001b[1;32m     24\u001b[0m     root_folder: \u001b[38;5;28mstr\u001b[39m,\n\u001b[0;32m   (...)\u001b[0m\n\u001b[1;32m     28\u001b[0m     batch_size: \u001b[38;5;28mint\u001b[39m,\n\u001b[1;32m     29\u001b[0m ):\n\u001b[0;32m---> 30\u001b[0m     \u001b[38;5;28;01mreturn\u001b[39;00m \u001b[38;5;28;43mself\u001b[39;49m\u001b[38;5;241;43m.\u001b[39;49m\u001b[43msegmentation\u001b[49m\u001b[38;5;241;43m.\u001b[39;49m\u001b[43mcreate_loader\u001b[49m\u001b[43m(\u001b[49m\n\u001b[1;32m     31\u001b[0m \u001b[43m        \u001b[49m\u001b[43mroot_folder\u001b[49m\u001b[43m,\u001b[49m\n\u001b[1;32m     32\u001b[0m \u001b[43m        \u001b[49m\u001b[43mimage_normalization\u001b[49m\u001b[43m,\u001b[49m\n\u001b[1;32m     33\u001b[0m \u001b[43m        \u001b[49m\u001b[43mlabel_normalization\u001b[49m\u001b[43m,\u001b[49m\n\u001b[1;32m     34\u001b[0m \u001b[43m        \u001b[49m\u001b[43maugmenters\u001b[49m\u001b[43m,\u001b[49m\n\u001b[1;32m     35\u001b[0m \u001b[43m        \u001b[49m\u001b[43mbatch_size\u001b[49m\u001b[43m,\u001b[49m\n\u001b[1;32m     36\u001b[0m \u001b[43m    \u001b[49m\u001b[43m)\u001b[49m\n",
      "File \u001b[0;32m~/PostDoc/PROJECTS/SOGEI-DevOps/venv/lib/python3.10/site-packages/building_footprint_segmentation/seg/binary/factory.py:20\u001b[0m, in \u001b[0;36mBinaryFactory.create_loader\u001b[0;34m(self, root_folder, image_normalization, ground_truth_normalization, augmenters, batch_size)\u001b[0m\n\u001b[1;32m     12\u001b[0m \u001b[38;5;28;01mdef\u001b[39;00m\u001b[38;5;250m \u001b[39m\u001b[38;5;21mcreate_loader\u001b[39m(\n\u001b[1;32m     13\u001b[0m     \u001b[38;5;28mself\u001b[39m,\n\u001b[1;32m     14\u001b[0m     root_folder: \u001b[38;5;28mstr\u001b[39m,\n\u001b[0;32m   (...)\u001b[0m\n\u001b[1;32m     18\u001b[0m     batch_size: \u001b[38;5;28mint\u001b[39m,\n\u001b[1;32m     19\u001b[0m ):\n\u001b[0;32m---> 20\u001b[0m     \u001b[38;5;28;01mreturn\u001b[39;00m \u001b[43mBinaryLoader\u001b[49m\u001b[38;5;241;43m.\u001b[39;49m\u001b[43mget_data_loader\u001b[49m\u001b[43m(\u001b[49m\n\u001b[1;32m     21\u001b[0m \u001b[43m        \u001b[49m\u001b[43mroot_folder\u001b[49m\u001b[43m,\u001b[49m\n\u001b[1;32m     22\u001b[0m \u001b[43m        \u001b[49m\u001b[43mimage_normalization\u001b[49m\u001b[43m,\u001b[49m\n\u001b[1;32m     23\u001b[0m \u001b[43m        \u001b[49m\u001b[43mground_truth_normalization\u001b[49m\u001b[43m,\u001b[49m\n\u001b[1;32m     24\u001b[0m \u001b[43m        \u001b[49m\u001b[43maugmenters\u001b[49m\u001b[43m,\u001b[49m\n\u001b[1;32m     25\u001b[0m \u001b[43m        \u001b[49m\u001b[43mbatch_size\u001b[49m\u001b[43m,\u001b[49m\n\u001b[1;32m     26\u001b[0m \u001b[43m    \u001b[49m\u001b[43m)\u001b[49m\n",
      "File \u001b[0;32m~/PostDoc/PROJECTS/SOGEI-DevOps/venv/lib/python3.10/site-packages/building_footprint_segmentation/seg/base_loader.py:46\u001b[0m, in \u001b[0;36mBaseLoader.get_data_loader\u001b[0;34m(cls, root_folder, image_normalization, label_normalization, augmenters, batch_size)\u001b[0m\n\u001b[1;32m     36\u001b[0m \u001b[38;5;129m@classmethod\u001b[39m\n\u001b[1;32m     37\u001b[0m \u001b[38;5;28;01mdef\u001b[39;00m\u001b[38;5;250m \u001b[39m\u001b[38;5;21mget_data_loader\u001b[39m(\n\u001b[1;32m     38\u001b[0m     \u001b[38;5;28mcls\u001b[39m,\n\u001b[0;32m   (...)\u001b[0m\n\u001b[1;32m     43\u001b[0m     batch_size: \u001b[38;5;28mint\u001b[39m,\n\u001b[1;32m     44\u001b[0m ):\n\u001b[1;32m     45\u001b[0m     train_data \u001b[38;5;241m=\u001b[39m DataLoader(\n\u001b[0;32m---> 46\u001b[0m         dataset\u001b[38;5;241m=\u001b[39m\u001b[38;5;28;43mcls\u001b[39;49m\u001b[43m(\u001b[49m\n\u001b[1;32m     47\u001b[0m \u001b[43m            \u001b[49m\u001b[43mroot_folder\u001b[49m\u001b[43m,\u001b[49m\n\u001b[1;32m     48\u001b[0m \u001b[43m            \u001b[49m\u001b[43mimage_normalization\u001b[49m\u001b[43m,\u001b[49m\n\u001b[1;32m     49\u001b[0m \u001b[43m            \u001b[49m\u001b[43mlabel_normalization\u001b[49m\u001b[43m,\u001b[49m\n\u001b[1;32m     50\u001b[0m \u001b[43m            \u001b[49m\u001b[43maugmenters\u001b[49m\u001b[43m,\u001b[49m\n\u001b[1;32m     51\u001b[0m \u001b[43m            \u001b[49m\u001b[38;5;124;43m\"\u001b[39;49m\u001b[38;5;124;43mtrain\u001b[39;49m\u001b[38;5;124;43m\"\u001b[39;49m\u001b[43m,\u001b[49m\n\u001b[1;32m     52\u001b[0m \u001b[43m        \u001b[49m\u001b[43m)\u001b[49m,\n\u001b[1;32m     53\u001b[0m         shuffle\u001b[38;5;241m=\u001b[39m\u001b[38;5;28;01mTrue\u001b[39;00m,\n\u001b[1;32m     54\u001b[0m         num_workers\u001b[38;5;241m=\u001b[39m\u001b[38;5;241m0\u001b[39m,\n\u001b[1;32m     55\u001b[0m         batch_size\u001b[38;5;241m=\u001b[39mbatch_size,\n\u001b[1;32m     56\u001b[0m         pin_memory\u001b[38;5;241m=\u001b[39mtorch\u001b[38;5;241m.\u001b[39mcuda\u001b[38;5;241m.\u001b[39mis_available(),\n\u001b[1;32m     57\u001b[0m     )\n\u001b[1;32m     58\u001b[0m     val_data \u001b[38;5;241m=\u001b[39m DataLoader(\n\u001b[1;32m     59\u001b[0m         dataset\u001b[38;5;241m=\u001b[39m\u001b[38;5;28mcls\u001b[39m(\n\u001b[1;32m     60\u001b[0m             root_folder, image_normalization, label_normalization, \u001b[38;5;28mdict\u001b[39m(), \u001b[38;5;124m\"\u001b[39m\u001b[38;5;124mval\u001b[39m\u001b[38;5;124m\"\u001b[39m\n\u001b[0;32m   (...)\u001b[0m\n\u001b[1;32m     65\u001b[0m         pin_memory\u001b[38;5;241m=\u001b[39mtorch\u001b[38;5;241m.\u001b[39mcuda\u001b[38;5;241m.\u001b[39mis_available(),\n\u001b[1;32m     66\u001b[0m     )\n\u001b[1;32m     68\u001b[0m     test_data \u001b[38;5;241m=\u001b[39m DataLoader(\n\u001b[1;32m     69\u001b[0m         dataset\u001b[38;5;241m=\u001b[39m\u001b[38;5;28mcls\u001b[39m(\n\u001b[1;32m     70\u001b[0m             root_folder, image_normalization, label_normalization, \u001b[38;5;28mdict\u001b[39m(), \u001b[38;5;124m\"\u001b[39m\u001b[38;5;124mtest\u001b[39m\u001b[38;5;124m\"\u001b[39m\n\u001b[0;32m   (...)\u001b[0m\n\u001b[1;32m     75\u001b[0m         pin_memory\u001b[38;5;241m=\u001b[39mtorch\u001b[38;5;241m.\u001b[39mcuda\u001b[38;5;241m.\u001b[39mis_available(),\n\u001b[1;32m     76\u001b[0m     )\n",
      "File \u001b[0;32m~/PostDoc/PROJECTS/SOGEI-DevOps/venv/lib/python3.10/site-packages/building_footprint_segmentation/seg/binary/loader.py:34\u001b[0m, in \u001b[0;36mBinaryLoader.__init__\u001b[0;34m(self, root_folder, image_normalization, ground_truth_normalization, augmenters, mode)\u001b[0m\n\u001b[1;32m     29\u001b[0m \u001b[38;5;28mself\u001b[39m\u001b[38;5;241m.\u001b[39mground_truth_normalization \u001b[38;5;241m=\u001b[39m \u001b[38;5;28mgetattr\u001b[39m(\n\u001b[1;32m     30\u001b[0m     normalizer, \u001b[38;5;28mself\u001b[39m\u001b[38;5;241m.\u001b[39mground_truth_normalization\n\u001b[1;32m     31\u001b[0m )\n\u001b[1;32m     33\u001b[0m \u001b[38;5;28;01mif\u001b[39;00m mode \u001b[38;5;129;01mis\u001b[39;00m \u001b[38;5;124m\"\u001b[39m\u001b[38;5;124mtrain\u001b[39m\u001b[38;5;124m\"\u001b[39m \u001b[38;5;129;01mand\u001b[39;00m \u001b[38;5;28mlen\u001b[39m(\u001b[38;5;28mself\u001b[39m\u001b[38;5;241m.\u001b[39maugmenters) \u001b[38;5;241m>\u001b[39m \u001b[38;5;241m0\u001b[39m:\n\u001b[0;32m---> 34\u001b[0m     \u001b[38;5;28mself\u001b[39m\u001b[38;5;241m.\u001b[39maugmenters \u001b[38;5;241m=\u001b[39m \u001b[43mfrom_dict\u001b[49m\u001b[43m(\u001b[49m\u001b[38;5;28;43mself\u001b[39;49m\u001b[38;5;241;43m.\u001b[39;49m\u001b[43maugmenters\u001b[49m\u001b[43m)\u001b[49m\n",
      "File \u001b[0;32m~/PostDoc/PROJECTS/SOGEI-DevOps/venv/lib/python3.10/site-packages/albumentations/core/serialization.py:170\u001b[0m, in \u001b[0;36mfrom_dict\u001b[0;34m(transform_dict, nonserializable, lambda_transforms)\u001b[0m\n\u001b[1;32m    167\u001b[0m     nonserializable \u001b[38;5;241m=\u001b[39m typing\u001b[38;5;241m.\u001b[39mcast(Optional[Dict[\u001b[38;5;28mstr\u001b[39m, Any]], lambda_transforms)\n\u001b[1;32m    169\u001b[0m register_additional_transforms()\n\u001b[0;32m--> 170\u001b[0m transform \u001b[38;5;241m=\u001b[39m \u001b[43mtransform_dict\u001b[49m\u001b[43m[\u001b[49m\u001b[38;5;124;43m\"\u001b[39;49m\u001b[38;5;124;43mtransform\u001b[39;49m\u001b[38;5;124;43m\"\u001b[39;49m\u001b[43m]\u001b[49m\n\u001b[1;32m    171\u001b[0m lmbd \u001b[38;5;241m=\u001b[39m instantiate_nonserializable(transform, nonserializable)\n\u001b[1;32m    172\u001b[0m \u001b[38;5;28;01mif\u001b[39;00m lmbd:\n",
      "File \u001b[0;32m~/PostDoc/PROJECTS/SOGEI-DevOps/venv/lib/python3.10/site-packages/albumentations/core/composition.py:71\u001b[0m, in \u001b[0;36mBaseCompose.__getitem__\u001b[0;34m(self, item)\u001b[0m\n\u001b[1;32m     70\u001b[0m \u001b[38;5;28;01mdef\u001b[39;00m\u001b[38;5;250m \u001b[39m\u001b[38;5;21m__getitem__\u001b[39m(\u001b[38;5;28mself\u001b[39m, item: \u001b[38;5;28mint\u001b[39m) \u001b[38;5;241m-\u001b[39m\u001b[38;5;241m>\u001b[39m TransformType:  \u001b[38;5;66;03m# type: ignore\u001b[39;00m\n\u001b[0;32m---> 71\u001b[0m     \u001b[38;5;28;01mreturn\u001b[39;00m \u001b[38;5;28;43mself\u001b[39;49m\u001b[38;5;241;43m.\u001b[39;49m\u001b[43mtransforms\u001b[49m\u001b[43m[\u001b[49m\u001b[43mitem\u001b[49m\u001b[43m]\u001b[49m\n",
      "\u001b[0;31mTypeError\u001b[0m: list indices must be integers or slices, not str"
     ]
    }
   ],
   "source": [
    "model = segmentation.load_model(name=\"ReFineNet\", transfer_weights=transfer_weights, pre_trained_image_net=False,\n",
    "        top_layers_trainable=False)\n",
    "criterion = segmentation.load_criterion(name=\"BinaryCrossEntropy\")\n",
    "loader = segmentation.load_loader(\n",
    "    root_folder=r\"/Users/dorianaunito/PostDoc/PROJECTS/SOGEI-DevOps/venv/building-footprint-segmentation/data\",\n",
    "    image_normalization=\"divide_by_255\",\n",
    "    label_normalization=\"binary_label\",\n",
    "    augmenters=augmenters,\n",
    "    batch_size=2,\n",
    ")\n",
    "metrics = segmentation.load_metrics(\n",
    "    data_metrics=[\"accuracy\", \"precision\", \"f1\", \"recall\", \"iou\"]\n",
    ")\n",
    "\n",
    "optimizer = segmentation.load_optimizer(model, name=\"Adam\")\n",
    "\n",
    "callbacks = CallbackList()\n",
    "# Ouptut from all the callbacks caller will be stored at the path specified in log_dir\n",
    "for caller in  [\"TrainChkCallback\", \"TimeCallback\", \"TensorBoardCallback\", \"TrainStateCallback\"]:\n",
    "    callbacks.append(load_callback(r\"/Users/dorianaunito/PostDoc/PROJECTS/SOGEI-DevOps/venv/building-footprint-segmentation/out_data\", caller))"
   ]
  },
  {
   "cell_type": "markdown",
   "metadata": {},
   "source": [
    "### Initalize the Trainer object\n"
   ]
  },
  {
   "cell_type": "code",
   "execution_count": 6,
   "metadata": {},
   "outputs": [],
   "source": [
    "trainer = Trainer(\n",
    "    model=model,\n",
    "    criterion=criterion,\n",
    "    loader=loader,\n",
    "    metrics=metrics,\n",
    "    callbacks=callbacks,\n",
    "    optimizer=optimizer,\n",
    "    scheduler=None,\n",
    ")"
   ]
  },
  {
   "cell_type": "markdown",
   "metadata": {},
   "source": [
    "### Start training\n"
   ]
  },
  {
   "cell_type": "code",
   "execution_count": 7,
   "metadata": {},
   "outputs": [
    {
     "name": "stderr",
     "output_type": "stream",
     "text": [
      "Epoch 0, lr 0.001:   0%|                                                                                                                                                                      | 0/8 [00:00<?, ?it/s]C:\\Users\\Fuzail\\anaconda3\\envs\\building-footprint-segmentation\\lib\\site-packages\\torch\\nn\\functional.py:3063: UserWarning: Default upsampling behavior when mode=bilinear is changed to align_corners=False since 0.4.0. Please specify align_corners=True if the old behavior is desired. See the documentation of nn.Upsample for details.\n",
      "  \"See the documentation of nn.Upsample for details.\".format(mode))\n",
      "Epoch 0, lr 0.001: 100%|████████████████████████████████████████████████████████████████████████████████████████████████████████████████████████████████████████████████| 8/8 [01:12<00:00,  9.04s/it, loss=2.67997]"
     ]
    },
    {
     "name": "stdout",
     "output_type": "stream",
     "text": [
      "\r\n",
      "\u001b[1;37m>>\u001b[KPy-OneLiner : \u001b[36mValidation\u001b[0m : \u001b[30m1/1 ETA -- 0:Days 0:Hours 0:Minutes 0:Seconds\u001b[0m"
     ]
    },
    {
     "name": "stderr",
     "output_type": "stream",
     "text": [
      "\n"
     ]
    },
    {
     "name": "stdout",
     "output_type": "stream",
     "text": [
      "\u001b[1;37m>>\u001b[KPy-OneLiner : \u001b[36mLoss\u001b[0m : \u001b[30mtrain: 2.6799654960632324, validation: 0.6257065534591675\u001b[0m\n",
      "\u001b[1;37m>>\u001b[KPy-OneLiner : \u001b[36mTrain Metric\u001b[0m : \u001b[30maccuracy : 0.79162, precision : 0.00000, f1 : 0.00000, recall : 0.00000, iou : 0.00000\u001b[0m\n",
      "\u001b[1;37m>>\u001b[KPy-OneLiner : \u001b[36mValid Metric\u001b[0m : \u001b[30maccuracy : 0.96608, precision : 0.00000, f1 : 0.00000, recall : 0.00000, iou : 0.00000\u001b[0m\n",
      "\u001b[1;37m>>\u001b[KPy-OneLiner : Training Complete\n",
      "\u001b[1;37m>>\u001b[KPy-OneLiner : \u001b[36mRun Time\u001b[0m : \u001b[30m0:Days 0:Hours 1:Minutes 34:Seconds\u001b[0m"
     ]
    }
   ],
   "source": [
    "trainer.train(start_epoch=0, end_epoch=1)"
   ]
  },
  {
   "cell_type": "markdown",
   "metadata": {},
   "source": [
    "### Resuming Training\n"
   ]
  },
  {
   "cell_type": "code",
   "execution_count": 8,
   "metadata": {},
   "outputs": [
    {
     "name": "stderr",
     "output_type": "stream",
     "text": [
      "Epoch 1, lr 0.001:   0%|                                                                                                                                                                      | 0/8 [00:00<?, ?it/s]C:\\Users\\Fuzail\\anaconda3\\envs\\building-footprint-segmentation\\lib\\site-packages\\torch\\nn\\functional.py:3063: UserWarning: Default upsampling behavior when mode=bilinear is changed to align_corners=False since 0.4.0. Please specify align_corners=True if the old behavior is desired. See the documentation of nn.Upsample for details.\n",
      "  \"See the documentation of nn.Upsample for details.\".format(mode))\n",
      "Epoch 1, lr 0.001: 100%|████████████████████████████████████████████████████████████████████████████████████████████████████████████████████████████████████████████████| 8/8 [01:05<00:00,  8.20s/it, loss=0.64895]"
     ]
    },
    {
     "name": "stdout",
     "output_type": "stream",
     "text": [
      "\r\n",
      "\u001b[1;37m>>\u001b[KPy-OneLiner : \u001b[36mValidation\u001b[0m : \u001b[30m1/1 ETA -- 0:Days 0:Hours 0:Minutes 0:Seconds\u001b[0m"
     ]
    },
    {
     "name": "stderr",
     "output_type": "stream",
     "text": [
      "\n"
     ]
    },
    {
     "name": "stdout",
     "output_type": "stream",
     "text": [
      "\u001b[1;37m>>\u001b[KPy-OneLiner : \u001b[36mLoss\u001b[0m : \u001b[30mtrain: 0.6489536613225937, validation: 0.6272180676460266\u001b[0m\n",
      "\u001b[1;37m>>\u001b[KPy-OneLiner : \u001b[36mTrain Metric\u001b[0m : \u001b[30maccuracy : 0.79162, precision : 0.00000, f1 : 0.00000, recall : 0.00000, iou : 0.00000\u001b[0m\n",
      "\u001b[1;37m>>\u001b[KPy-OneLiner : \u001b[36mValid Metric\u001b[0m : \u001b[30maccuracy : 0.96608, precision : 0.00000, f1 : 0.00000, recall : 0.00000, iou : 0.00000\u001b[0m\n",
      "\u001b[1;37m>>\u001b[KPy-OneLiner : Training Complete\n",
      "\u001b[1;37m>>\u001b[KPy-OneLiner : \u001b[36mRun Time\u001b[0m : \u001b[30m0:Days 0:Hours 1:Minutes 16:Seconds\u001b[0m"
     ]
    }
   ],
   "source": [
    "path_to_saved_state = r\"D:\\Cypherics\\lib_check\\out_data\\state\\default.pt\"\n",
    "\n",
    "# if new_end_epoch is None, the trainer will resume and run till end_epoch, the value of which is saved in state file \n",
    "trainer.resume(state=path_to_saved_state, new_end_epoch=2)"
   ]
  }
 ],
 "metadata": {
  "kernelspec": {
   "display_name": "venv",
   "language": "python",
   "name": "python3"
  },
  "language_info": {
   "codemirror_mode": {
    "name": "ipython",
    "version": 3
   },
   "file_extension": ".py",
   "mimetype": "text/x-python",
   "name": "python",
   "nbconvert_exporter": "python",
   "pygments_lexer": "ipython3",
   "version": "3.10.18"
  }
 },
 "nbformat": 4,
 "nbformat_minor": 4
}
